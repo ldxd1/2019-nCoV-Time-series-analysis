{
 "cells": [
  {
   "cell_type": "code",
   "execution_count": 1,
   "metadata": {},
   "outputs": [],
   "source": [
    "import pandas as pd\n",
    "import numpy as np\n",
    "%matplotlib inline\n",
    "import matplotlib.pyplot as plt"
   ]
  },
  {
   "cell_type": "code",
   "execution_count": 2,
   "metadata": {},
   "outputs": [],
   "source": [
    "from statsmodels.tsa.api import VAR\n",
    "from statsmodels.tsa.ar_model import AutoReg\n",
    "from sklearn.linear_model import LinearRegression"
   ]
  },
  {
   "cell_type": "code",
   "execution_count": 3,
   "metadata": {},
   "outputs": [],
   "source": [
    "data = pd.read_csv(\"D:\\Brandeis Homework\\kaggle competition\\2019Cnov\\coronavirus.csv\").drop(['Unnamed: 0'],axis=1).csv"
   ]
  },
  {
   "cell_type": "code",
   "execution_count": 4,
   "metadata": {},
   "outputs": [
    {
     "name": "stdout",
     "output_type": "stream",
     "text": [
      "    date  confirm  suspect  dead  heal\n",
      "0   1.13       41        0     1     0\n",
      "1   1.14       41        0     1     0\n",
      "2   1.15       41        0     2     5\n",
      "3   1.16       45        0     2     8\n",
      "4   1.17       62        0     2    12\n",
      "5   1.18      198        0     3    17\n",
      "6   1.19      275        0     4    18\n",
      "7   1.20      291       54     6    25\n",
      "8   1.21      440       37     9    25\n",
      "9   1.22      571      393    17    25\n",
      "10  1.23      830     1072    25    34\n",
      "11  1.24     1287     1965    41    38\n",
      "12  1.25     1975     2684    56    49\n",
      "13  1.26     2744     5794    80    51\n",
      "14  1.27     4515     6973   106    60\n",
      "15  1.28     5974     9239   132   103\n",
      "16  1.29     7711    12167   170   124\n",
      "17  1.30     9692    15238   213   171\n",
      "18  1.31    11791    17988   259   243\n",
      "19  2.01    14380    19544   304   328\n",
      "20  2.02    17205    21558   361   475\n"
     ]
    }
   ],
   "source": [
    "print(data)"
   ]
  },
  {
   "cell_type": "code",
   "execution_count": 5,
   "metadata": {},
   "outputs": [],
   "source": [
    "model = VAR(data.drop(['date'],axis=1)[:16])"
   ]
  },
  {
   "cell_type": "code",
   "execution_count": 6,
   "metadata": {},
   "outputs": [],
   "source": [
    "result = model.fit(1)"
   ]
  },
  {
   "cell_type": "code",
   "execution_count": 7,
   "metadata": {},
   "outputs": [
    {
     "data": {
      "text/plain": [
       "  Summary of Regression Results   \n",
       "==================================\n",
       "Model:                         VAR\n",
       "Method:                        OLS\n",
       "Date:           Tue, 04, Feb, 2020\n",
       "Time:                     19:08:48\n",
       "--------------------------------------------------------------------\n",
       "No. of Equations:         4.00000    BIC:                    24.5976\n",
       "Nobs:                     15.0000    HQIC:                   23.6435\n",
       "Log likelihood:          -242.538    FPE:                2.08254e+10\n",
       "AIC:                      23.6535    Det(Omega_mle):     6.58929e+09\n",
       "--------------------------------------------------------------------\n",
       "Results for equation confirm\n",
       "=============================================================================\n",
       "                coefficient       std. error           t-stat            prob\n",
       "-----------------------------------------------------------------------------\n",
       "const             -2.765967        20.586939           -0.134           0.893\n",
       "L1.confirm         0.421914         0.057305            7.363           0.000\n",
       "L1.suspect         0.395091         0.036544           10.811           0.000\n",
       "L1.dead            6.335609         3.872547            1.636           0.102\n",
       "L1.heal           10.764578         1.775841            6.062           0.000\n",
       "=============================================================================\n",
       "\n",
       "Results for equation suspect\n",
       "=============================================================================\n",
       "                coefficient       std. error           t-stat            prob\n",
       "-----------------------------------------------------------------------------\n",
       "const           -172.021924       216.156021           -0.796           0.426\n",
       "L1.confirm        -0.076283         0.601685           -0.127           0.899\n",
       "L1.suspect        -0.282106         0.383699           -0.735           0.462\n",
       "L1.dead          121.256301        40.660458            2.982           0.003\n",
       "L1.heal          -16.031905        18.645738           -0.860           0.390\n",
       "=============================================================================\n",
       "\n",
       "Results for equation dead\n",
       "=============================================================================\n",
       "                coefficient       std. error           t-stat            prob\n",
       "-----------------------------------------------------------------------------\n",
       "const             -1.250023         1.112597           -1.124           0.261\n",
       "L1.confirm        -0.009139         0.003097           -2.951           0.003\n",
       "L1.suspect        -0.002641         0.001975           -1.337           0.181\n",
       "L1.dead            1.726369         0.209287            8.249           0.000\n",
       "L1.heal            0.174559         0.095973            1.819           0.069\n",
       "=============================================================================\n",
       "\n",
       "Results for equation heal\n",
       "=============================================================================\n",
       "                coefficient       std. error           t-stat            prob\n",
       "-----------------------------------------------------------------------------\n",
       "const              4.525727         2.591327            1.746           0.081\n",
       "L1.confirm         0.026196         0.007213            3.632           0.000\n",
       "L1.suspect        -0.003235         0.004600           -0.703           0.482\n",
       "L1.dead           -0.378207         0.487447           -0.776           0.438\n",
       "L1.heal            0.675446         0.223529            3.022           0.003\n",
       "=============================================================================\n",
       "\n",
       "Correlation matrix of residuals\n",
       "            confirm   suspect      dead      heal\n",
       "confirm    1.000000 -0.217232  0.222402  0.047130\n",
       "suspect   -0.217232  1.000000  0.481337 -0.741597\n",
       "dead       0.222402  0.481337  1.000000 -0.504868\n",
       "heal       0.047130 -0.741597 -0.504868  1.000000\n",
       "\n"
      ]
     },
     "execution_count": 7,
     "metadata": {},
     "output_type": "execute_result"
    }
   ],
   "source": [
    "result.summary()"
   ]
  },
  {
   "cell_type": "code",
   "execution_count": 8,
   "metadata": {},
   "outputs": [
    {
     "data": {
      "image/png": "[encoded data removed]",
      "text/plain": [
       "<Figure size 720x720 with 16 Axes>"
      ]
     },
     "metadata": {
      "needs_background": "light"
     },
     "output_type": "display_data"
    }
   ],
   "source": [
    "plot = result.plot_acorr()"
   ]
  },
  {
   "cell_type": "code",
   "execution_count": 9,
   "metadata": {},
   "outputs": [
    {
     "name": "stdout",
     "output_type": "stream",
     "text": [
      "[[ 8113.04495473 11120.43259227   165.60974562   150.77504256]\n",
      " [10486.09147802 13735.9650753    207.4536046    220.27989614]\n",
      " [13533.98303272 16776.62117031   263.22813637   305.10258948]\n",
      " [17287.71310706 21089.47587754   338.43561742   411.30565872]\n",
      " [22195.15068683 27003.19176866   441.11261515   538.97424676]]\n"
     ]
    }
   ],
   "source": [
    "lag_order = result.k_ar\n",
    "var_forcast = result.forecast(data.drop(['date'],axis=1)[:16].values[-lag_order:], 5)\n",
    "print(var_forcast)"
   ]
  },
  {
   "cell_type": "code",
   "execution_count": 10,
   "metadata": {},
   "outputs": [],
   "source": [
    "ar_model = AutoReg(data['suspect'][:16],1)"
   ]
  },
  {
   "cell_type": "code",
   "execution_count": 11,
   "metadata": {},
   "outputs": [],
   "source": [
    "ar_result = ar_model.fit()"
   ]
  },
  {
   "cell_type": "code",
   "execution_count": 12,
   "metadata": {},
   "outputs": [
    {
     "data": {
      "text/html": [
       "<table class=\"simpletable\">\n",
       "<caption>AutoReg Model Results</caption>\n",
       "<tr>\n",
       "  <th>Dep. Variable:</th>      <td>suspect</td>     <th>  No. Observations:  </th>    <td>16</td>   \n",
       "</tr>\n",
       "<tr>\n",
       "  <th>Model:</th>            <td>AutoReg(1)</td>    <th>  Log Likelihood     </th> <td>-117.496</td>\n",
       "</tr>\n",
       "<tr>\n",
       "  <th>Method:</th>         <td>Conditional MLE</td> <th>  S.D. of innovations</th>  <td>610.400</td>\n",
       "</tr>\n",
       "<tr>\n",
       "  <th>Date:</th>          <td>Tue, 04 Feb 2020</td> <th>  AIC                </th>  <td>13.228</td> \n",
       "</tr>\n",
       "<tr>\n",
       "  <th>Time:</th>              <td>19:08:50</td>     <th>  BIC                </th>  <td>13.370</td> \n",
       "</tr>\n",
       "<tr>\n",
       "  <th>Sample:</th>                <td>1</td>        <th>  HQIC               </th>  <td>13.227</td> \n",
       "</tr>\n",
       "<tr>\n",
       "  <th></th>                      <td>16</td>        <th>                     </th>     <td> </td>   \n",
       "</tr>\n",
       "</table>\n",
       "<table class=\"simpletable\">\n",
       "<tr>\n",
       "       <td></td>         <th>coef</th>     <th>std err</th>      <th>z</th>      <th>P>|z|</th>  <th>[0.025</th>    <th>0.975]</th>  \n",
       "</tr>\n",
       "<tr>\n",
       "  <th>intercept</th>  <td>  222.6604</td> <td>  182.442</td> <td>    1.220</td> <td> 0.222</td> <td> -134.920</td> <td>  580.241</td>\n",
       "</tr>\n",
       "<tr>\n",
       "  <th>suspect.L1</th> <td>    1.3109</td> <td>    0.073</td> <td>   18.042</td> <td> 0.000</td> <td>    1.169</td> <td>    1.453</td>\n",
       "</tr>\n",
       "</table>\n",
       "<table class=\"simpletable\">\n",
       "<caption>Roots</caption>\n",
       "<tr>\n",
       "    <td></td>   <th>            Real</th>  <th>         Imaginary</th> <th>         Modulus</th>  <th>        Frequency</th>\n",
       "</tr>\n",
       "<tr>\n",
       "  <th>AR.1</th> <td>           0.7628</td> <td>          +0.0000j</td> <td>           0.7628</td> <td>           0.0000</td>\n",
       "</tr>\n",
       "</table>"
      ],
      "text/plain": [
       "<class 'statsmodels.iolib.summary.Summary'>\n",
       "\"\"\"\n",
       "                            AutoReg Model Results                             \n",
       "==============================================================================\n",
       "Dep. Variable:                suspect   No. Observations:                   16\n",
       "Model:                     AutoReg(1)   Log Likelihood                -117.496\n",
       "Method:               Conditional MLE   S.D. of innovations            610.400\n",
       "Date:                Tue, 04 Feb 2020   AIC                             13.228\n",
       "Time:                        19:08:50   BIC                             13.370\n",
       "Sample:                             1   HQIC                            13.227\n",
       "                                   16                                         \n",
       "==============================================================================\n",
       "                 coef    std err          z      P>|z|      [0.025      0.975]\n",
       "------------------------------------------------------------------------------\n",
       "intercept    222.6604    182.442      1.220      0.222    -134.920     580.241\n",
       "suspect.L1     1.3109      0.073     18.042      0.000       1.169       1.453\n",
       "                                    Roots                                    \n",
       "=============================================================================\n",
       "                  Real          Imaginary           Modulus         Frequency\n",
       "-----------------------------------------------------------------------------\n",
       "AR.1            0.7628           +0.0000j            0.7628            0.0000\n",
       "-----------------------------------------------------------------------------\n",
       "\"\"\""
      ]
     },
     "execution_count": 12,
     "metadata": {},
     "output_type": "execute_result"
    }
   ],
   "source": [
    "ar_result.summary()"
   ]
  },
  {
   "cell_type": "code",
   "execution_count": 13,
   "metadata": {},
   "outputs": [],
   "source": [
    "reg_con = LinearRegression(fit_intercept=False).fit(data['suspect'][:15].values.reshape(-1,1), data['confirm'][1:16])\n",
    "reg_dead = LinearRegression(fit_intercept=False).fit(data['confirm'][:15].values.reshape(-1,1), data['dead'][1:16])\n",
    "reg_heal = LinearRegression(fit_intercept=False).fit(data['confirm'][:15].values.reshape(-1,1), data['heal'][1:16])"
   ]
  },
  {
   "cell_type": "code",
   "execution_count": 14,
   "metadata": {},
   "outputs": [
    {
     "data": {
      "text/plain": [
       "0.9668478833915429"
      ]
     },
     "execution_count": 14,
     "metadata": {},
     "output_type": "execute_result"
    }
   ],
   "source": [
    "reg_con.score(data['suspect'][:15].values.reshape(-1,1), data['confirm'][1:16])"
   ]
  },
  {
   "cell_type": "code",
   "execution_count": 15,
   "metadata": {},
   "outputs": [
    {
     "data": {
      "text/plain": [
       "0.9540749587447863"
      ]
     },
     "execution_count": 15,
     "metadata": {},
     "output_type": "execute_result"
    }
   ],
   "source": [
    "reg_dead.score(data['confirm'][:15].values.reshape(-1,1), data['dead'][1:16])"
   ]
  },
  {
   "cell_type": "code",
   "execution_count": 16,
   "metadata": {},
   "outputs": [
    {
     "data": {
      "text/plain": [
       "0.7373836558531137"
      ]
     },
     "execution_count": 16,
     "metadata": {},
     "output_type": "execute_result"
    }
   ],
   "source": [
    "reg_heal.score(data['confirm'][:15].values.reshape(-1,1), data['heal'][1:16])"
   ]
  },
  {
   "cell_type": "code",
   "execution_count": 17,
   "metadata": {},
   "outputs": [],
   "source": [
    "def mod_predict(data, times):\n",
    "    dum = np.zeros((times,4),dtype=float)\n",
    "    dum[:,1] = ar_result.predict(-1,15+times)[-times:]\n",
    "    dum[:,0] = reg_con.predict(np.concatenate((data.values[:,1], dum[:-1,1]),axis=0).reshape(-1,1))\n",
    "    dum[:,2] = reg_dead.predict(np.concatenate((data.values[:,0], dum[:-1,0]),axis=0).reshape(-1,1))\n",
    "    dum[:,3] = reg_heal.predict(np.concatenate((data.values[:,0], dum[:-1,0]),axis=0).reshape(-1,1))\n",
    "    return dum"
   ]
  },
  {
   "cell_type": "code",
   "execution_count": 18,
   "metadata": {},
   "outputs": [
    {
     "name": "stdout",
     "output_type": "stream",
     "text": [
      "[[ 7895.34460376 12334.40569559   201.73914684   149.86366953]\n",
      " [10540.57619324 16392.286984     266.62204292   198.06248988]\n",
      " [14008.30767209 21711.91296202   355.9502592    264.4207277 ]\n",
      " [18554.28453751 28685.60650669   473.05390667   351.41218474]\n",
      " [24513.77297741 37827.67812151   626.5693895    465.4524885 ]]\n"
     ]
    }
   ],
   "source": [
    "mod_forcast = mod_predict(data.drop(['date'],axis=1)[15:16],5)\n",
    "print(mod_forcast)"
   ]
  },
  {
   "cell_type": "code",
   "execution_count": 19,
   "metadata": {},
   "outputs": [],
   "source": [
    "var_data = np.concatenate((data.drop(['date'],axis=1).values[:-5],var_forcast),axis=0)\n",
    "mod_data = np.concatenate((data.drop(['date'],axis=1).values[:-5],mod_forcast),axis=0)"
   ]
  },
  {
   "cell_type": "code",
   "execution_count": 20,
   "metadata": {},
   "outputs": [],
   "source": [
    "var_data = pd.DataFrame(var_data,columns=['confirm','suspect','dead','heal'])\n",
    "mod_data = pd.DataFrame(mod_data,columns=['confirm','suspect','dead','heal'])"
   ]
  },
  {
   "cell_type": "code",
   "execution_count": 21,
   "metadata": {},
   "outputs": [
    {
     "name": "stdout",
     "output_type": "stream",
     "text": [
      "         confirm       suspect        dead        heal\n",
      "0      41.000000      0.000000    1.000000    0.000000\n",
      "1      41.000000      0.000000    1.000000    0.000000\n",
      "2      41.000000      0.000000    2.000000    5.000000\n",
      "3      45.000000      0.000000    2.000000    8.000000\n",
      "4      62.000000      0.000000    2.000000   12.000000\n",
      "5     198.000000      0.000000    3.000000   17.000000\n",
      "6     275.000000      0.000000    4.000000   18.000000\n",
      "7     291.000000     54.000000    6.000000   25.000000\n",
      "8     440.000000     37.000000    9.000000   25.000000\n",
      "9     571.000000    393.000000   17.000000   25.000000\n",
      "10    830.000000   1072.000000   25.000000   34.000000\n",
      "11   1287.000000   1965.000000   41.000000   38.000000\n",
      "12   1975.000000   2684.000000   56.000000   49.000000\n",
      "13   2744.000000   5794.000000   80.000000   51.000000\n",
      "14   4515.000000   6973.000000  106.000000   60.000000\n",
      "15   5974.000000   9239.000000  132.000000  103.000000\n",
      "16   8113.044955  11120.432592  165.609746  150.775043\n",
      "17  10486.091478  13735.965075  207.453605  220.279896\n",
      "18  13533.983033  16776.621170  263.228136  305.102589\n",
      "19  17287.713107  21089.475878  338.435617  411.305659\n",
      "20  22195.150687  27003.191769  441.112615  538.974247\n"
     ]
    }
   ],
   "source": [
    "print(var_data)"
   ]
  },
  {
   "cell_type": "code",
   "execution_count": 22,
   "metadata": {},
   "outputs": [
    {
     "name": "stdout",
     "output_type": "stream",
     "text": [
      "         confirm       suspect        dead        heal\n",
      "0      41.000000      0.000000    1.000000    0.000000\n",
      "1      41.000000      0.000000    1.000000    0.000000\n",
      "2      41.000000      0.000000    2.000000    5.000000\n",
      "3      45.000000      0.000000    2.000000    8.000000\n",
      "4      62.000000      0.000000    2.000000   12.000000\n",
      "5     198.000000      0.000000    3.000000   17.000000\n",
      "6     275.000000      0.000000    4.000000   18.000000\n",
      "7     291.000000     54.000000    6.000000   25.000000\n",
      "8     440.000000     37.000000    9.000000   25.000000\n",
      "9     571.000000    393.000000   17.000000   25.000000\n",
      "10    830.000000   1072.000000   25.000000   34.000000\n",
      "11   1287.000000   1965.000000   41.000000   38.000000\n",
      "12   1975.000000   2684.000000   56.000000   49.000000\n",
      "13   2744.000000   5794.000000   80.000000   51.000000\n",
      "14   4515.000000   6973.000000  106.000000   60.000000\n",
      "15   5974.000000   9239.000000  132.000000  103.000000\n",
      "16   7895.344604  12334.405696  201.739147  149.863670\n",
      "17  10540.576193  16392.286984  266.622043  198.062490\n",
      "18  14008.307672  21711.912962  355.950259  264.420728\n",
      "19  18554.284538  28685.606507  473.053907  351.412185\n",
      "20  24513.772977  37827.678122  626.569389  465.452488\n"
     ]
    }
   ],
   "source": [
    "print(mod_data)"
   ]
  },
  {
   "cell_type": "code",
   "execution_count": null,
   "metadata": {},
   "outputs": [],
   "source": []
  }
 ],
 "metadata": {
  "kernelspec": {
   "display_name": "Python 3",
   "language": "python",
   "name": "python3"
  },
  "language_info": {
   "codemirror_mode": {
    "name": "ipython",
    "version": 3
   },
   "file_extension": ".py",
   "mimetype": "text/x-python",
   "name": "python",
   "nbconvert_exporter": "python",
   "pygments_lexer": "ipython3",
   "version": "3.7.1"
  }
 },
 "nbformat": 4,
 "nbformat_minor": 2
}
